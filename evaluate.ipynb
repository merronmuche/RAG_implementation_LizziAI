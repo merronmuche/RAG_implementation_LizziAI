{
 "cells": [
  {
   "cell_type": "code",
   "execution_count": 1,
   "metadata": {},
   "outputs": [
    {
     "name": "stderr",
     "output_type": "stream",
     "text": [
      "/home/meron/Documents/work/tenacademy/week11/RAG_implementation_LizziAI/venv/lib/python3.10/site-packages/tqdm/auto.py:21: TqdmWarning: IProgress not found. Please update jupyter and ipywidgets. See https://ipywidgets.readthedocs.io/en/stable/user_install.html\n",
      "  from .autonotebook import tqdm as notebook_tqdm\n"
     ]
    }
   ],
   "source": [
    "\n",
    "\n",
    "import os\n",
    "os.environ.setdefault('DJANGO_SETTINGS_MODULE', 'lizzy_AI.settings')\n",
    "import django\n",
    "django.setup()\n",
    "\n",
    "from RAG_evaluation.create_and_evaluate_ragas_dataset import create_ragas_dataset, evaluate_ragas_dataset\n",
    "\n",
    "from RAG_evaluation.read_qa import read_docx\n"
   ]
  },
  {
   "cell_type": "code",
   "execution_count": 2,
   "metadata": {},
   "outputs": [
    {
     "name": "stderr",
     "output_type": "stream",
     "text": [
      "  0%|          | 0/14 [00:00<?, ?it/s]/home/meron/Documents/work/tenacademy/week11/RAG_implementation_LizziAI/venv/lib/python3.10/site-packages/langchain_core/_api/deprecation.py:117: LangChainDeprecationWarning: The class `langchain_community.embeddings.openai.OpenAIEmbeddings` was deprecated in langchain-community 0.1.0 and will be removed in 0.2.0. An updated version of the class exists in the langchain-openai package and should be used instead. To use it run `pip install -U langchain-openai` and import as `from langchain_openai import OpenAIEmbeddings`.\n",
      "  warn_deprecated(\n",
      "100%|██████████| 14/14 [00:24<00:00,  1.72s/it]\n"
     ]
    },
    {
     "data": {
      "text/plain": [
       "Dataset({\n",
       "    features: ['question', 'answer', 'contexts', 'ground_truths'],\n",
       "    num_rows: 14\n",
       "})"
      ]
     },
     "execution_count": 2,
     "metadata": {},
     "output_type": "execute_result"
    }
   ],
   "source": [
    "\n",
    "file_path = \"/home/meron/Documents/work/tenacademy/week11/RAG_implementation_LizziAI/datalizzy/Raptor Q&A2.docx\"\n",
    "content = read_docx(file_path)\n",
    "basic_qa_ragas_dataset = await create_ragas_dataset(content)\n",
    "basic_qa_ragas_dataset"
   ]
  },
  {
   "cell_type": "code",
   "execution_count": 3,
   "metadata": {},
   "outputs": [
    {
     "data": {
      "text/plain": [
       "{'question': 'Q2:   How much is the escrow amount?',\n",
       " 'answer': \"I don't know.\",\n",
       " 'contexts': ['burden of proof shall arise favoring or disfavoring any party by virtue of the authorship of any of the provisions of this Agreement. (b) Section and subsection headings are not to be considered part of this Agreement, are included solely for convenience, are not intended to be full or accurate descriptions of the content of the Sections or subsections of this Agreement and shall not affect the construction hereof. (c) Except as otherwise explicitly specified to the contrary herein, (i) the words “hereof,” “herein,” “hereunder” and words of similar import shall refer to this Agreement as a whole and not to any particular Section or subsection of this Agreement and reference to a particular Section of this Agreement shall include all subsections thereof, (ii) references to a Section, Exhibit, Annex or Schedule means a Section of, or Exhibit, Annex or Schedule to this Agreement, unless another agreement is specified, (iii) definitions shall be equally applicable to both the singular and plural forms of the terms defined, and references to the masculine, feminine or neuter gender shall include each other gender, (iv) the word “including” means including without limitation, (v) any reference to “consultant” will be deemed to be a reference to any independent contractor, (vi) any reference to “$” or “dollars” means United States dollars and (vii) references to a particular statute or regulation include all rules and regulations thereunder and any successor statute, rule or regulation, in each case as amended or otherwise modified from time to time. (d) Only that information which has been made available to the Buyer in the “virtual data room” created for purposes of the sale of the Acquired Companies as such data room existed as of one Business Day prior to the date hereof or which was actually physically delivered or delivered by email prior to the date hereof to the Buyer or their counsel shall be considered to have been “delivered” or “made available” to the Buyer for purposes of this Agreement. -15- 112923184_5 (e) The parties intend that each representation, warranty and covenant contained herein will have independent significance. If any party has breached or violated, or if there is an inaccuracy in, any representation, warranty or covenant contained herein in any respect, the fact that there exists another representation, warranty or covenant relating to the same subject matter (regardless of the relative levels of specificity) which the party has not breached or violated, or in respect of which there is not an inaccuracy, will not detract from or mitigate the fact that the party has breached or violated, or there is an inaccuracy in, the first representation, warranty or covenant. (f) Unless the context clearly requires otherwise, when used herein “or” shall not be exclusive (i.e., “or” shall mean “and/or”). (g) Time is of the essence with regard to all dates and time periods set forth or referred to in this Agreement. (h) For the convenience of the parties an index of additional terms defined throughout this Agreement has been included at the beginning of this Agreement but does not form a part of this Agreement. ARTICLE II PURCHASE AND SALE OF SHARES AND WARRANTS; TREATMENT OF OPTIONS; CLOSING. Section II.01 Purchase and Sale of Shares. Upon the terms and subject to the conditions set forth in this Agreement, at the Closing, each of the Sellers shall sell, transfer and deliver to Buyer, free and clear of all Encumbrances, and Buyer shall purchase from each of such Sellers, all of the outstanding Shares. Section II.02 Purchase Price. In consideration for the purchase by Buyer of the Shares, Buyer shall pay, or cause to be paid, to the Sellers at Closing the Closing Cash Consideration, as calculated and adjusted (a) at the Closing as described in Section 2.04 and Section 2.05(a)(i), and (b) if applicable, following the Closing as described in Section 2.07(f). The Closing Cash Consideration plus the Escrow Amount, after all adjustments contemplated in this Agreement, is referred to herein as the “Purchase Price”. Section II.03 The Closing. The purchase and sale of the Shares (the “Closing”) shall take place on the date hereof (the “Closing Date”) by exchange of documents and signatures (or their electronic counterparts). The consummation of the transactions contemplated by this Agreement shall be deemed to occur at 12:01 a.m. Pacific Standard Time on the Closing Date. Section II.04 Closing Payments. (a) At the Closing, Buyer shall pay, or cause to be paid, through payment to the Paying Agent which will in turn make the following payments, in cash by wire transfer of immediately available funds –(a) the Closing Cash Consideration to or for the account of Sellers, (b) the Warrant Closing Cash Consideration to or for the account of Warrantholders, (c) the Closing Vested Options Cash Consideration to the [102 Trustee] for the benefit of the Vested -16- 112923184_5 Optionholders, and (d) the Employee Closing Bonus Amount [to the Company] for the benefit of the Employee Closing Bonus Beneficiaries (the payments set forth in (a) through (d), the “Closing Cash Amounts”). Exhibit 2.04 attached hereto is a statement (the “Estimated Closing Statement”) setting forth (i) the Sellers’ Representative’s good faith estimate (together with reasonable detail) of the Closing Cash Amounts, (ii) a list of all payees to whom any portion of the Closing Debt Amount is payable, (iii) a list of all payees to whom any portion of the Seller Transaction Expenses is payable, (iv) a schedule of the payees and accounts (including payment instructions) to which each of the foregoing payments is to be paid and (v) each Company Securityholder’s Pro Rata Percentage (the “Allocation Statement”).6 (b) At the Closing, Buyer shall deposit the Escrow Amount with the Escrow Agent to be held in a separate account (the “Escrow Account”). The Escrow Account shall be governed by the terms of the Escrow Agreement. All funds contained in the Escrow Account shall be held in escrow and shall be available solely for the purpose of satisfying obligations of the Company Securityholders, if any, as',\n",
       "  'the portion of the consideration payable in Parent’s equity (i.e., to be terminated in exchange for a cash payment). 3 Note to draft: Acquisition structure is subject to ongoing diligence and analysis. 2 Sellers NTD: Inclusion of option and warrant holders as parties to the Agreement is not warranted. (Vested optionholders and warrantholders will execute option\\\\warrants cancellation acknowledgments) 1 Note to draft: Buyer entity to be confirmed. 112923184_5 AGREEMENT NOW THEREFORE, in consideration of the premises and mutual promises herein made, and in consideration of the representations, warranties and covenants herein contained, the parties to this Agreement hereby agree as follows: ARTICLE I DEFINITIONS; CERTAIN RULES OF CONSTRUCTION Section I.01 Definitions. In addition to the other terms defined throughout this Agreement, the following terms shall have the following meanings when used in this Agreement: [“Accounting Principles” means GAAP as in effect on the Most Recent Balance Sheet Date and, to the extent consistent with GAAP, using the same accounting methods, principles, practices, procedures and estimation methodologies as those utilized in the preparation of the Most Recent Balance Sheet]. “Acquired Companies” means, collectively, the Company and each of its Subsidiaries. “Action” means any claim, action, suit, litigation, mediation, arbitration, known investigation, known opposition, interference, audit, assessment, hearing, complaint, charge, demand or other legal proceeding (whether sounding in contract, tort or otherwise, whether civil or criminal and whether brought at law or in equity) that is commenced, brought, conducted, tried or heard by or before, or otherwise involving, any Governmental Authority. “Affiliate” means, with respect to any specified Person, any other Person directly or indirectly controlling, controlled by, or under direct or indirect common control with such specified Person. For purposes of the foregoing, a Person shall be deemed to control a specified Person if such Person (or a Family Member of such Person) possesses, directly or indirectly, the power to direct or cause the direction of the management and policies of such specified Person. “Ancillary Agreements” means the Escrow Agreement, the Option Cancellation Acknowledgments, and [and the Employment Agreements]. “Anti-Corruption Laws” means any applicable laws, regulations, or orders relating to anti-bribery or anti-corruption (governmental or commercial), including, without limitation, the U.S. Foreign Corrupt Practices Act of 1977 (as amended). “Anti-Money Laundering Laws” means any applicable laws, regulations, rules or guidelines relating to money laundering, including, without limitation, financial recordkeeping and reporting requirements; such as, without limitation, applicable Israeli law, the U.S. Uniting and Strengthening America by Providing Appropriate Tools Required to Intercept and Obstruct Terrorism Act of 2001, Public Law 107-56, the U.S. Currency and Foreign Transaction Reporting Act of 1970 (as amended), and the U.S. Money Laundering Control Act of 1986 (as amended). “Business” means the businesses conducted by the Acquired Companies as of the date hereof. -2- 112923184_5 “Business Day” means any day other than a Friday, Saturday or a Sunday or a weekday on which banks in San Francisco, California, USA and Tel Aviv, Israel are authorized or required to be closed. “CARES Act” means, collectively, the U.S. Coronavirus Aid, Relief, and Economic Security Act or any similar current or successor applicable federal, state, or local Law, as may be amended, including any presidential memoranda or executive orders, relating to the COVID-19 pandemic, as well as any applicable guidance (including without limitation, IRS Notice 2020-65, 2020-38 IRB and the Presidential Memorandum on Deferring Payroll Tax Obligations in Light of the Ongoing COVID-19 Disaster issued on August 8, 2020, the Consolidated Appropriations Act, 2021, the Health and Economic Recovery Omnibus Emergency Solutions Act and the Health Economic Assistance, Liability, and Schools Act). “Change of Control Payment” means (a) any bonus, unfunded severance or other payment or other form of Compensation that is created, accelerated, accrues or becomes payable by any Acquired Company to any present or former director, stockholder, employee, consultant or other individual service provider thereof, including pursuant to any employment agreement, benefit plan or any other Contractual Obligation, including the employer portion of any Taxes payable on or triggered by any such payment calculated without regard to any deferral available under the CARES Act \\uf028other than any payment or consideration payable under this Agreement or any Ancillary Agreement, including the payment of the Retention Amount or Employees Closing Bonus Amount), but specifically excluding any severance that becomes payable as a result of a claim for constructive dismissal or breach of Contractual Obligation arising out of the conduct of the Acquired Companies or their respective officers, employees or Affiliates after Closing, and (b) without duplication of any other amounts included within the definition of Seller Transaction Expenses, any other payment, expense or fee that accrues or becomes payable by any Acquired Company to any Governmental Authority or other Person under any applicable Legal Requirement or Contractual Obligation, including in connection with the making of any filings, the giving of any notices or the obtaining of any consents, authorizations or approvals, in the case of each of (a) and (b), as a result of the execution and delivery of this Agreement or the consummation of the Contemplated Transactions. “Closing Cash Amount” means the sum of all cash and cash equivalents of the Acquired Companies as of immediately prior to the Closing, less (without duplication) the amount of outstanding checks as of the Closing. “Closing Debt Amount” means the amount of Debt of the Acquired Companies (disregarding Debt of any Acquired Company to another Acquired Company) as of immediately prior to the Closing determined without giving effect to any reduction to such amount occurring as a result of the repayment of Debt on the Closing Date. -3- 112923184_5 “Closing Cash Consideration” means an amount equal to (i) $50,000,000, minus (ii) the Escrow Amount, minus (iii) the Closing Debt Amount, plus (iv) the Closing Cash Amount, minus (v) the sum of all Seller Transaction Expenses. “Code” means the U.S. Internal Revenue Code of 1986. “Company Intellectual Property” means all Intellectual Property owned or purported to be owned by, or exclusively licensed or purported to be exclusively licensed to, any Acquired Company.',\n",
       "  'Firm pursuant to this Section 2.07 is referred to herein as the “Final Closing Statement”. Each of the parties to this Agreement agrees to use its commercially reasonable efforts to cooperate with the Accounting Firm (including by executing a customary engagement letter reasonably acceptable to it) and to cause the Accounting Firm to resolve any such dispute as soon as practicable after the commencement of the Accounting Firm’s engagement. (e) Purchase Price Adjustment. If any of the Closing Cash Amount, the Closing Debt Amount or the Seller Transaction Expenses (as finally determined pursuant to this Section 2.07 and as set forth in the Final Closing Statement) differs from the estimated amounts thereof set forth in the Estimated Closing Statement, the Purchase Price shall be recalculated using such final figures in lieu of such estimated figures, and (i) the Buyer shall pay in cash to each Company Securityholder by wire transfer of immediately available funds its Pro Rata Percentage of the amount, if any, by which such re-calculated final Purchase Price exceeds the estimated Purchase Price paid at Closing in accordance with Section 2.05(a)(i) and Section 2.07(a) and the Escrow Agent shall release the Escrow Amount to Company Securityholders in accordance with the Escrow Agreement or (ii) the amount, if any, by which such estimated Purchase Price paid at Closing in accordance with Section 2.05(a)(i) and Section 2.07(a) exceeds such re-calculated final Purchase Price shall be paid to the Buyer, or its designee, in accordance with the terms of the Escrow Agreement (and any remaining balance of the Escrow Amount not required to be paid to the Buyer shall be released to Company Securityholders in accordance with the terms of the Escrow Agreement). Section I.04 Escrow. (a) At Closing, Buyer will deposit the Escrow Amount in escrow on behalf of the Sellers in accordance with the Escrow Agreement. The Escrow Amount shall be held and, subject to Section 2.07, released to the Company Securityholders in accordance with the provisions of the Escrow Agreement with the Company Securityholders being entitled to share in such released amounts in accordance with their Pro Rata Percentages. From and after the Closing, Buyer and the Sellers’ Representative will direct the Escrow Agent to disburse payments from the Escrow Account in accordance with the purchase price adjustment provisions of this Agreement and the terms of the Escrow Agreement including: (a) in the case of any disbursement that is required by the terms of this Agreement and as to which there is no dispute (or as to which the disputing party has failed to notify the Escrow Agent and the other parties of its dispute in accordance with any applicable requirements under this Agreement and the Escrow Agreement), they will provide prompt joint payment instructions directing the Escrow Agent to make such disbursement and (b) in the case of a disbursement as to which either the Buyer or the Seller’s Representative has notified the other and the Escrow Agent (in accordance with any notice and timing requirements applicable under this Agreement and the Escrow Agreement) that there is a good faith dispute, they will provide joint payment instructions to the Escrow Agent to direct the appropriate disbursement promptly upon the resolution, in accordance with the provisions of this Agreement, of such dispute. (b) Recovery from the Escrow Amount shall constitute the Buyer’s exclusive remedy against the Company Securityholders in connection with any claim relating to any adjustments of -21- 112923184_5 the Purchase Price (as set forth in Section 2.07(e)) and any such claim shall expire upon the termination of the Escrow Agreement. Section I.05 Withholding Rights. (a) (a) Notwithstanding any other provision of this Agreement, each of the Buyer or anyone acting on its behalf, the Paying Agent, the Escrow Agent and the Section 102 Trustee and any other applicable withholding agent (each a “Payor”), shall be entitled to deduct and withhold from the Closing Cash Payment and from any other payments otherwise required pursuant to this Agreement, such amount in cash as the Buyer and/or such anyone acting on its behalf is required to deduct and withhold with respect to any payments under the Code or any provision of state, local, provincial or foreign law, unless the applicable Payee (as defined below) provides the Payor, at least five days prior to the proposed date of such payment, with a valid withholding certificate obtained from the applicable tax authorities, exempting the payment to such payee from withholding tax or reducing the amount thereof. To the extent that the amounts are so deducted or withheld, such withheld amounts shall be treated for all purposes of this Agreement as having been paid or issued, as applicable, to such Payee in respect of which such deduction and withholding was made and, upon request, the Payor shall promptly provide the applicable Payee with a document evidencing the amount so withheld and remitted to the Tax authority with respect to the payment made to such Payee. (b) Notwithstanding the above provisions, with respect to Israeli Taxes, and in accordance with the Paying Agent undertaking provided to Buyer as required under Section 6.2.4.3 of the Income Tax Circular 19/2018 (Transaction for Sale of Rights in a Corporation that Includes Consideration that will be Transferred to the Company Stockholders at Future Dates) (the “Paying Agent Undertaking”), any consideration payable or otherwise to be delivered pursuant to this Agreement on the Closing to any Company Securityholder (other than holders of 102 Securities) or any other Person entitled to payments hereunder (each a “Payee”) will be retained by the Paying Agent, for the benefit of such Payee for a period of up to 180 days from the Closing Date or as otherwise requested by the ITA (the “Withholding Drop Date”), during which time such Payee may obtain a valid certificate or ruling issued by the ITA in form and substance reasonable acceptable to Buyer and the Paying Agent, which: (i) exempts Buyer and the Paying Agent from the duty to withhold Israeli Taxes with respect to such'],\n",
       " 'ground_truths': ['A2: The escrow amount is equal to $1,000,000.']}"
      ]
     },
     "execution_count": 3,
     "metadata": {},
     "output_type": "execute_result"
    }
   ],
   "source": [
    "basic_qa_ragas_dataset[2]\n"
   ]
  },
  {
   "cell_type": "code",
   "execution_count": 12,
   "metadata": {},
   "outputs": [
    {
     "name": "stderr",
     "output_type": "stream",
     "text": [
      "passing column names as 'ground_truths' is deprecated and will be removed in the next version, please use 'ground_truth' instead. Note that `ground_truth` should be of type string and not Sequence[string] like `ground_truths`\n",
      "Evaluating: 100%|██████████| 98/98 [00:23<00:00,  4.17it/s]\n"
     ]
    },
    {
     "data": {
      "text/plain": [
       "{'context_precision': 0.3452, 'faithfulness': 0.8333, 'answer_relevancy': 0.0674, 'context_recall': 0.5714, 'context_relevancy': 0.0422, 'answer_correctness': 0.3113, 'answer_similarity': 0.7759}"
      ]
     },
     "execution_count": 12,
     "metadata": {},
     "output_type": "execute_result"
    }
   ],
   "source": [
    "\n",
    "eval_result = evaluate_ragas_dataset(basic_qa_ragas_dataset)\n",
    "eval_result"
   ]
  },
  {
   "cell_type": "code",
   "execution_count": null,
   "metadata": {},
   "outputs": [],
   "source": []
  },
  {
   "cell_type": "code",
   "execution_count": null,
   "metadata": {},
   "outputs": [],
   "source": []
  }
 ],
 "metadata": {
  "kernelspec": {
   "display_name": "venv",
   "language": "python",
   "name": "python3"
  },
  "language_info": {
   "codemirror_mode": {
    "name": "ipython",
    "version": 3
   },
   "file_extension": ".py",
   "mimetype": "text/x-python",
   "name": "python",
   "nbconvert_exporter": "python",
   "pygments_lexer": "ipython3",
   "version": "3.10.12"
  }
 },
 "nbformat": 4,
 "nbformat_minor": 2
}
